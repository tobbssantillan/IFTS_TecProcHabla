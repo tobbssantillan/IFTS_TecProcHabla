{
  "nbformat": 4,
  "nbformat_minor": 0,
  "metadata": {
    "colab": {
      "provenance": [],
      "gpuType": "T4"
    },
    "kernelspec": {
      "name": "python3",
      "display_name": "Python 3"
    },
    "language_info": {
      "name": "python"
    },
    "accelerator": "GPU"
  },
  "cells": [
    {
      "cell_type": "code",
      "execution_count": 1,
      "metadata": {
        "id": "5ZVm6CIouwgF",
        "colab": {
          "base_uri": "https://localhost:8080/"
        },
        "outputId": "6b911509-536f-4aff-a2dc-644922f60354"
      },
      "outputs": [
        {
          "output_type": "stream",
          "name": "stdout",
          "text": [
            "\u001b[?25l   \u001b[90m━━━━━━━━━━━━━━━━━━━━━━━━━━━━━━━━━━━━━━━━\u001b[0m \u001b[32m0.0/222.8 kB\u001b[0m \u001b[31m?\u001b[0m eta \u001b[36m-:--:--\u001b[0m\r\u001b[2K   \u001b[91m━━━━━━━━━━━━━━━━━━━━━━━━━━━━━━━━━━━━━━\u001b[0m\u001b[91m╸\u001b[0m\u001b[90m━\u001b[0m \u001b[32m215.0/222.8 kB\u001b[0m \u001b[31m10.9 MB/s\u001b[0m eta \u001b[36m0:00:01\u001b[0m\r\u001b[2K   \u001b[90m━━━━━━━━━━━━━━━━━━━━━━━━━━━━━━━━━━━━━━━━\u001b[0m \u001b[32m222.8/222.8 kB\u001b[0m \u001b[31m5.8 MB/s\u001b[0m eta \u001b[36m0:00:00\u001b[0m\n",
            "\u001b[?25h"
          ]
        }
      ],
      "source": [
        "%pip install -U -q google-genai"
      ]
    },
    {
      "cell_type": "markdown",
      "source": [
        "# Procesamiento de Lenguaje Natural con Google Gemini API\n",
        "Este script demuestra diversas aplicaciones de Procesamiento de Lenguaje Natural (PLN) utilizando el modelo Gemini de Google a través de la librería `google-generativeai`."
      ],
      "metadata": {
        "id": "KvvIHZvXyE2n"
      }
    },
    {
      "cell_type": "code",
      "source": [
        "from google.colab import userdata\n",
        "import os\n",
        "\n",
        "GOOGLE_API_KEY = userdata.get('GOOGLE_API_KEY')"
      ],
      "metadata": {
        "id": "0xS2NWpqvWHX"
      },
      "execution_count": 2,
      "outputs": []
    },
    {
      "cell_type": "code",
      "source": [
        "from google import genai\n",
        "from google.genai import types\n",
        "\n",
        "cliente = genai.Client(api_key=GOOGLE_API_KEY)"
      ],
      "metadata": {
        "id": "sL2CGPN7vvHj"
      },
      "execution_count": 3,
      "outputs": []
    },
    {
      "cell_type": "markdown",
      "source": [
        "# Definición del texto de entrada"
      ],
      "metadata": {
        "id": "Cy_bZVjVyTbE"
      }
    },
    {
      "cell_type": "code",
      "source": [
        "# Texto base que utilizaremos para todos los ejemplos.\n",
        "\n",
        "text_to_process = \"Compré un celular y me llegó un modelo viejo. Quiero uno nuevo.\"\n",
        "\n",
        "print(\"\\nTexto de entrada definido.\")"
      ],
      "metadata": {
        "id": "_NwHWVYpv_Ji",
        "colab": {
          "base_uri": "https://localhost:8080/"
        },
        "outputId": "befa4ac2-509b-4da0-ffa5-800c8ab56fa8"
      },
      "execution_count": 4,
      "outputs": [
        {
          "output_type": "stream",
          "name": "stdout",
          "text": [
            "\n",
            "Texto de entrada definido.\n"
          ]
        }
      ]
    },
    {
      "cell_type": "code",
      "source": [
        "MODEL_ID = \"gemini-2.0-flash\" # @param [\"gemini-2.0-flash-lite\",\"gemini-2.0-flash\",\"gemini-2.5-flash-preview-05-20\",\"gemini-2.5-pro-preview-05-06\"] {\"allow-input\":true, isTemplate: true}"
      ],
      "metadata": {
        "id": "msa42Srs1Mci"
      },
      "execution_count": 5,
      "outputs": []
    },
    {
      "cell_type": "markdown",
      "source": [
        "## 1. Sumarizacion"
      ],
      "metadata": {
        "id": "nR1SRBxf1Sma"
      }
    },
    {
      "cell_type": "code",
      "source": [
        "pregunta = f\"\"\"Sumariza el siguiente texto en dos oraciones de rapida lectura\n",
        "\n",
        "Texto: {text_to_process}\n",
        "\"\"\"\n",
        "\n",
        "respuesta = cliente.models.generate_content(\n",
        "    model=MODEL_ID,\n",
        "    contents=[pregunta] # Pasa la pregunta como contenido\n",
        ")\n",
        "print(respuesta.text)"
      ],
      "metadata": {
        "id": "zjLIg2OZ1Pby",
        "colab": {
          "base_uri": "https://localhost:8080/"
        },
        "outputId": "4e1bb240-8f0c-4c36-840a-0a846c933217"
      },
      "execution_count": 6,
      "outputs": [
        {
          "output_type": "stream",
          "name": "stdout",
          "text": [
            "Me estafaron con un celular viejo, ¡exijo el modelo nuevo! Quiero mi dinero o el teléfono que pagué.\n",
            "\n"
          ]
        }
      ]
    },
    {
      "cell_type": "markdown",
      "source": [
        "##2. Clasificación de Sentimiento"
      ],
      "metadata": {
        "id": "A0XQRDI01INu"
      }
    },
    {
      "cell_type": "code",
      "source": [
        "pregunta = f\"\"\"Clasificá el siguiente texto como positivo, negativo o neutral y explicá por qué:\n",
        "\n",
        "Texto: {text_to_process}\n",
        "\"\"\"\n",
        "\n",
        "respuesta = cliente.models.generate_content(\n",
        "    model=MODEL_ID,\n",
        "    contents=[pregunta] # Pasa la pregunta como contenido\n",
        ")\n",
        "print(respuesta.text)"
      ],
      "metadata": {
        "id": "w59q68sb0og-",
        "colab": {
          "base_uri": "https://localhost:8080/"
        },
        "outputId": "c2792e8a-8a9e-46a0-db30-1b7493c27c43"
      },
      "execution_count": 7,
      "outputs": [
        {
          "output_type": "stream",
          "name": "stdout",
          "text": [
            "El texto es **negativo**.\n",
            "\n",
            "Aquí está la explicación:\n",
            "\n",
            "*   **Expresión de insatisfacción:** El texto claramente expresa frustración y decepción. La persona no está contenta con la compra, ya que recibió un producto diferente al que esperaba.\n",
            "*   **Desperfecto en el servicio/producto:** La entrega de un modelo viejo en lugar de uno nuevo implica un problema en el servicio o un defecto en el producto. Esto genera una experiencia negativa para el cliente.\n",
            "*   **Deseo de cambio:** La frase \"Quiero uno nuevo\" refuerza la insatisfacción y el deseo de corregir la situación, lo que subraya la negatividad de la experiencia.\n"
          ]
        }
      ]
    },
    {
      "cell_type": "markdown",
      "source": [
        "##3. Reconocimiento de Entidades Nombradas (NER)"
      ],
      "metadata": {
        "id": "Eyjbk9Ij1mlD"
      }
    },
    {
      "cell_type": "code",
      "source": [
        "prompt = f\"\"\"Extraé todas las entidades nombradas del siguiente texto (personas, organizaciones, lugares, objetos) y clasificálas:\n",
        "\n",
        "Texto: {text_to_process}\n",
        "\"\"\"\n",
        "\n",
        "respuesta = cliente.models.generate_content(\n",
        "    model=MODEL_ID,\n",
        "    contents=[prompt] # Pasa la pregunta como contenido\n",
        ")\n",
        "print(respuesta.text)"
      ],
      "metadata": {
        "id": "0ZO0owXo1nqM",
        "colab": {
          "base_uri": "https://localhost:8080/"
        },
        "outputId": "79529277-9c6b-4cd1-946e-2922de001494"
      },
      "execution_count": 8,
      "outputs": [
        {
          "output_type": "stream",
          "name": "stdout",
          "text": [
            "En el texto proporcionado, las entidades nombradas son muy limitadas debido a la brevedad del mismo. Podemos identificar:\n",
            "\n",
            "*   **Objeto:** Celular\n",
            "\n"
          ]
        }
      ]
    },
    {
      "cell_type": "markdown",
      "source": [
        "##4. Respuesta a preguntas (Question Answering)"
      ],
      "metadata": {
        "id": "R7nLX8XA2ARy"
      }
    },
    {
      "cell_type": "code",
      "source": [
        "pregunta = \"¿Qué producto recibió el cliente?\"\n",
        "contexto = text_to_process\n",
        "\n",
        "prompt = f\"\"\"Respondé la siguiente pregunta basada en el texto:\n",
        "\n",
        "Texto: {contexto}\n",
        "Pregunta: {pregunta}\n",
        "\"\"\"\n",
        "\n",
        "respuesta = cliente.models.generate_content(\n",
        "    model=MODEL_ID,\n",
        "    contents=[contexto, pregunta] # Pasa la pregunta como contenido\n",
        ")\n",
        "print(respuesta.text)\n"
      ],
      "metadata": {
        "id": "_OJB5YkV2B0d",
        "colab": {
          "base_uri": "https://localhost:8080/"
        },
        "outputId": "759d7f53-5301-4f21-d39c-9193844d2c27"
      },
      "execution_count": 9,
      "outputs": [
        {
          "output_type": "stream",
          "name": "stdout",
          "text": [
            "El cliente recibió un **celular** (o teléfono móvil) de un modelo antiguo en lugar del modelo nuevo que esperaba.\n",
            "\n"
          ]
        }
      ]
    },
    {
      "cell_type": "markdown",
      "source": [
        "##5. Resumen automático"
      ],
      "metadata": {
        "id": "teUpLbTm2iah"
      }
    },
    {
      "cell_type": "code",
      "source": [
        "prompt = f\"\"\"Resumí el siguiente texto en no más de 3 líneas:\n",
        "\n",
        "Texto: {text_to_process}\n",
        "\"\"\"\n",
        "\n",
        "respuesta = cliente.models.generate_content(\n",
        "    model=MODEL_ID,\n",
        "    contents=[prompt] # Pasa la pregunta como contenido\n",
        ")\n",
        "print(respuesta.text)\n"
      ],
      "metadata": {
        "id": "eU1ntrhI2iIC",
        "colab": {
          "base_uri": "https://localhost:8080/"
        },
        "outputId": "595e053b-f542-4f11-91a6-e642c2d4fda2"
      },
      "execution_count": 10,
      "outputs": [
        {
          "output_type": "stream",
          "name": "stdout",
          "text": [
            "Recibí un celular viejo en lugar del modelo nuevo que compré. Exijo que me envíen el celular correcto. Solicito un cambio o reemplazo del producto.\n",
            "\n"
          ]
        }
      ]
    },
    {
      "cell_type": "markdown",
      "source": [
        "##6. Traducción (Español a Inglés)"
      ],
      "metadata": {
        "id": "tnd7hnBo254-"
      }
    },
    {
      "cell_type": "code",
      "source": [
        "prompt = f\"\"\"Traducí al inglés este texto:\n",
        "\n",
        "Texto: {text_to_process}\n",
        "\"\"\"\n",
        "\n",
        "respuesta = cliente.models.generate_content(\n",
        "    model=MODEL_ID,\n",
        "    contents=[prompt] # Pasa la pregunta como contenido\n",
        ")\n",
        "print(respuesta.text)\n"
      ],
      "metadata": {
        "id": "txSjXi-w2zOL",
        "colab": {
          "base_uri": "https://localhost:8080/"
        },
        "outputId": "d77d8c85-0e1f-4ba4-dc67-80201b02ca57"
      },
      "execution_count": 11,
      "outputs": [
        {
          "output_type": "stream",
          "name": "stdout",
          "text": [
            "Here are a few options, depending on the nuance you want to convey:\n",
            "\n",
            "*   **I bought a cell phone and I received an old model. I want a new one.** (This is a very direct and literal translation.)\n",
            "*   **I bought a cell phone, but I received an old model. I want a new one.** (Slightly more emphasis on the disappointment.)\n",
            "*   **I bought a cell phone, but they sent me an old model. I want a new one.** (Implies someone else made the mistake.)\n",
            "*   **I ordered a cell phone, but I received an older model. I want a new one.** (More formal, \"ordered\" specifies you bought it through a store.)\n"
          ]
        }
      ]
    },
    {
      "cell_type": "markdown",
      "source": [
        "##7. Generación de respuesta (como atención al cliente)"
      ],
      "metadata": {
        "id": "n2ODoTLy3Cp9"
      }
    },
    {
      "cell_type": "code",
      "source": [
        "respuesta_inicial = \"Estimado cliente, lamentamos mucho lo ocurrido con su pedido. \"\n",
        "\n",
        "prompt = f\"\"\"{text_to_process}\n",
        "\n",
        "Redactá una respuesta del servicio de atención al cliente que comience así:\n",
        "\n",
        "\"{respuesta_inicial}\"\n",
        "\n",
        "Cuya extension no supere las 4 lineas.\n",
        "\"\"\"\n",
        "\n",
        "respuesta = cliente.models.generate_content(\n",
        "    model=MODEL_ID,\n",
        "    contents=[prompt] # Pasa la pregunta como contenido\n",
        ")\n",
        "print(respuesta.text)"
      ],
      "metadata": {
        "id": "WmAhcje23CTG",
        "colab": {
          "base_uri": "https://localhost:8080/"
        },
        "outputId": "1b7eee81-9615-42d5-dc3c-5771cb31462b"
      },
      "execution_count": 12,
      "outputs": [
        {
          "output_type": "stream",
          "name": "stdout",
          "text": [
            "Estimado cliente, lamentamos mucho lo ocurrido con su pedido. Le pedimos disculpas por el error en el envío y el modelo antiguo recibido. Para solucionar esto lo antes posible, por favor envíenos una foto del celular recibido y su número de orden. Procederemos a coordinar el envío del modelo correcto.\n",
            "\n"
          ]
        }
      ]
    },
    {
      "cell_type": "markdown",
      "source": [
        "##8. Clasificación Zero-Shot (sin entrenamiento previo)"
      ],
      "metadata": {
        "id": "dtVjz8gr3VGR"
      }
    },
    {
      "cell_type": "code",
      "source": [
        "etiquetas = [\"queja\", \"elogio\", \"consulta\", \"pedido\", \"agradecimiento\"]\n",
        "\n",
        "prompt = f\"\"\"Clasificá el siguiente texto en una de estas categorías: {', '.join(etiquetas)}. Justificá tu elección.\n",
        "\n",
        "Texto: {text_to_process}\n",
        "\"\"\"\n",
        "\n",
        "respuesta = cliente.models.generate_content(\n",
        "    model=MODEL_ID,\n",
        "    contents=[prompt] # Pasa la pregunta como contenido\n",
        ")\n",
        "print(respuesta.text)\n"
      ],
      "metadata": {
        "id": "UtHlUvEy3URy",
        "colab": {
          "base_uri": "https://localhost:8080/"
        },
        "outputId": "0334d3d0-e08e-4a19-9136-1c9b680abfc7"
      },
      "execution_count": 13,
      "outputs": [
        {
          "output_type": "stream",
          "name": "stdout",
          "text": [
            "**Clasificación: Pedido**\n",
            "\n",
            "**Justificación:**\n",
            "\n",
            "El texto expresa claramente el deseo del remitente de obtener un producto diferente al que recibió.  La frase \"Quiero uno nuevo\" indica explícitamente una solicitud o petición de reemplazo del celular defectuoso/incorrecto por un modelo nuevo. Si bien la primera frase \"Compré un celular y me llegó un modelo viejo\" podría interpretarse como una queja, la acción principal y el objetivo del mensaje es solicitar una solución: obtener el producto correcto. Por lo tanto, el texto se centra en la acción que espera que el receptor realice (enviar un celular nuevo), lo que lo convierte en un pedido.\n",
            "\n"
          ]
        }
      ]
    },
    {
      "cell_type": "markdown",
      "source": [
        "## EJERCICIO\n",
        "\n",
        "Escribí un texto corto sobre una experiencia personal en un transporte público en Buenos Aires.\n",
        "\n",
        "Luego, generá:\n",
        "\n",
        "- Un resumen.\n",
        "- Una clasificación de sentimiento.\n",
        "- Una lista de entidades nombradas."
      ],
      "metadata": {
        "id": "nOPQ22a63k0r"
      }
    },
    {
      "cell_type": "code",
      "source": [
        "text_to_process_2 = \"\"\"\n",
        "El otro día me subí al 60 en hora pico, pleno microcentro. Estaba explotado. Apenas entré, me agarré del caño con una mano y con la otra intentaba guardar la SUBE. En eso, el bondi pega un frenazo y termino pisándole el pie a una señora.\n",
        "Le pedí mil disculpas, pero me miró con esa cara de \"otro más que no sabe viajar\". Para colmo, se me cayó el celu y rebotó contra la mochila de un pibe que venía con los auriculares a todo lo que da.\n",
        "Lo recuperé justo antes de que la puerta se cerrara en Once. Bajé dos paradas después, medio transpirado, pero con el alivio de haber sobrevivido a otro viaje porteño.\n",
        "\"\"\"\n"
      ],
      "metadata": {
        "id": "ovfbyNoKb67R"
      },
      "execution_count": 15,
      "outputs": []
    },
    {
      "cell_type": "code",
      "source": [
        "prompt = f\"\"\"Resumí el siguiente texto en no más de 2 líneas:\n",
        "\n",
        "Texto: {text_to_process_2}\n",
        "\"\"\"\n",
        "\n",
        "respuesta = cliente.models.generate_content(\n",
        "    model=MODEL_ID,\n",
        "    contents=[prompt] # Pasa la pregunta como contenido\n",
        ")\n",
        "print(respuesta.text)"
      ],
      "metadata": {
        "colab": {
          "base_uri": "https://localhost:8080/"
        },
        "id": "Ze4Q3jSVcJkM",
        "outputId": "b7431d97-af1b-43ff-8f77-7d1cfb26732b"
      },
      "execution_count": 17,
      "outputs": [
        {
          "output_type": "stream",
          "name": "stdout",
          "text": [
            "Un viaje en colectivo repleto en hora pico resultó en un incidente desafortunado con una señora y un celular caído, culminando en un escape triunfal dos paradas después.\n",
            "\n"
          ]
        }
      ]
    },
    {
      "cell_type": "code",
      "source": [
        "pregunta = f\"\"\"Clasificá el siguiente texto como positivo, negativo o neutral y explicá por qué:\n",
        "\n",
        "Texto: {text_to_process_2}\n",
        "\"\"\"\n",
        "\n",
        "respuesta = cliente.models.generate_content(\n",
        "    model=MODEL_ID,\n",
        "    contents=[pregunta] # Pasa la pregunta como contenido\n",
        ")\n",
        "print(respuesta.text)"
      ],
      "metadata": {
        "colab": {
          "base_uri": "https://localhost:8080/"
        },
        "id": "lnNaDbNUcXNd",
        "outputId": "a9bf1511-bbde-405a-9649-08b8c75cfdb3"
      },
      "execution_count": 18,
      "outputs": [
        {
          "output_type": "stream",
          "name": "stdout",
          "text": [
            "El texto se clasifica como **negativo**, aunque con un ligero matiz de humor. Aquí está el porqué:\n",
            "\n",
            "*   **Situación incómoda y frustrante:** El relato describe una serie de eventos desafortunados y estresantes: el colectivo lleno, la dificultad para moverse, pisar a alguien, la mirada de reproche, la caída del celular. Todos estos elementos generan una sensación de incomodidad y frustración.\n",
            "\n",
            "*   **Ausencia de elementos positivos:** No hay descripciones de algo agradable o beneficioso en el texto.\n",
            "\n",
            "*   **Tono general:** Si bien el autor utiliza un tono coloquial y hasta un poco humorístico (\"sobrevivido a otro viaje porteño\"), el relato se centra en las experiencias negativas y molestas del viaje. La frase final refleja más un alivio de haber superado una situación desagradable que un sentimiento positivo genuino.\n",
            "\n",
            "En resumen, aunque el autor no se queja abiertamente y le añade un toque de humor, la descripción de los eventos y el tono general del texto apuntan hacia una experiencia **negativa**.\n",
            "\n"
          ]
        }
      ]
    },
    {
      "cell_type": "code",
      "source": [
        "prompt = f\"\"\"Extraé todas las entidades nombradas del siguiente texto (personas, organizaciones, lugares, objetos) y clasificálas:\n",
        "\n",
        "Texto: {text_to_process_2}\n",
        "\"\"\"\n",
        "\n",
        "respuesta = cliente.models.generate_content(\n",
        "    model=MODEL_ID,\n",
        "    contents=[prompt] # Pasa la pregunta como contenido\n",
        ")\n",
        "print(respuesta.text)"
      ],
      "metadata": {
        "id": "HtVf54WQcg4q",
        "outputId": "b1af7c45-c17e-4780-b00f-f20a16cea8c6",
        "colab": {
          "base_uri": "https://localhost:8080/"
        }
      },
      "execution_count": 19,
      "outputs": [
        {
          "output_type": "stream",
          "name": "stdout",
          "text": [
            "Aquí están las entidades nombradas extraídas del texto, clasificadas por tipo:\n",
            "\n",
            "*   **Organizaciones:**\n",
            "\n",
            "    *   SUBE (Sistema Único de Boleto Electrónico)\n",
            "*   **Lugares:**\n",
            "\n",
            "    *   Microcentro\n",
            "    *   Once\n",
            "*   **Objetos:**\n",
            "\n",
            "    *   Celular\n",
            "    *   Mochila\n",
            "    *   Auriculares\n",
            "*   **Transporte:**\n",
            "\n",
            "    *   60 (línea de colectivo)\n",
            "    *   Bondi (colectivo)\n",
            "*   **Otros:**\n",
            "\n",
            "    *   Viaje porteño\n"
          ]
        }
      ]
    }
  ]
}
